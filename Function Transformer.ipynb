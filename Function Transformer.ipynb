{
 "cells": [
  {
   "cell_type": "code",
   "execution_count": 1,
   "id": "d2386dee",
   "metadata": {},
   "outputs": [],
   "source": [
    "import pandas as pd\n",
    "import numpy as np"
   ]
  },
  {
   "cell_type": "code",
   "execution_count": 2,
   "id": "133ab1ba",
   "metadata": {},
   "outputs": [],
   "source": [
    "import scipy.stats as stats"
   ]
  },
  {
   "cell_type": "code",
   "execution_count": 3,
   "id": "e0afcc83",
   "metadata": {},
   "outputs": [],
   "source": [
    "import matplotlib.pyplot as plt\n",
    "import seaborn as sns"
   ]
  },
  {
   "cell_type": "code",
   "execution_count": 4,
   "id": "a3da02ca",
   "metadata": {},
   "outputs": [],
   "source": [
    "from sklearn.model_selection import train_test_split\n",
    "from sklearn.metrics import accuracy_score\n",
    "from sklearn.model_selection import cross_val_score"
   ]
  },
  {
   "cell_type": "code",
   "execution_count": 29,
   "id": "44626cac",
   "metadata": {},
   "outputs": [],
   "source": [
    "from sklearn.linear_model import LogisticRegression\n",
    "from sklearn.tree import DecisionTreeClassifier"
   ]
  },
  {
   "cell_type": "code",
   "execution_count": 6,
   "id": "6041b66b",
   "metadata": {},
   "outputs": [],
   "source": [
    "from sklearn.preprocessing import FunctionTransformer\n",
    "from sklearn.compose import ColumnTransformer"
   ]
  },
  {
   "cell_type": "code",
   "execution_count": 15,
   "id": "4a0fdded",
   "metadata": {},
   "outputs": [],
   "source": [
    "df= pd.read_csv(\"Datasets/train.csv\", usecols=['Age', 'Fare','Survived'])"
   ]
  },
  {
   "cell_type": "code",
   "execution_count": 16,
   "id": "7aea5c99",
   "metadata": {},
   "outputs": [],
   "source": [
    "df['Age'].fillna(df['Age'].mean(),inplace=True)"
   ]
  },
  {
   "cell_type": "code",
   "execution_count": 17,
   "id": "246f2a28",
   "metadata": {},
   "outputs": [
    {
     "data": {
      "text/html": [
       "<div>\n",
       "<style scoped>\n",
       "    .dataframe tbody tr th:only-of-type {\n",
       "        vertical-align: middle;\n",
       "    }\n",
       "\n",
       "    .dataframe tbody tr th {\n",
       "        vertical-align: top;\n",
       "    }\n",
       "\n",
       "    .dataframe thead th {\n",
       "        text-align: right;\n",
       "    }\n",
       "</style>\n",
       "<table border=\"1\" class=\"dataframe\">\n",
       "  <thead>\n",
       "    <tr style=\"text-align: right;\">\n",
       "      <th></th>\n",
       "      <th>Survived</th>\n",
       "      <th>Age</th>\n",
       "      <th>Fare</th>\n",
       "    </tr>\n",
       "  </thead>\n",
       "  <tbody>\n",
       "    <tr>\n",
       "      <th>0</th>\n",
       "      <td>0</td>\n",
       "      <td>22.0</td>\n",
       "      <td>7.2500</td>\n",
       "    </tr>\n",
       "    <tr>\n",
       "      <th>1</th>\n",
       "      <td>1</td>\n",
       "      <td>38.0</td>\n",
       "      <td>71.2833</td>\n",
       "    </tr>\n",
       "    <tr>\n",
       "      <th>2</th>\n",
       "      <td>1</td>\n",
       "      <td>26.0</td>\n",
       "      <td>7.9250</td>\n",
       "    </tr>\n",
       "  </tbody>\n",
       "</table>\n",
       "</div>"
      ],
      "text/plain": [
       "   Survived   Age     Fare\n",
       "0         0  22.0   7.2500\n",
       "1         1  38.0  71.2833\n",
       "2         1  26.0   7.9250"
      ]
     },
     "execution_count": 17,
     "metadata": {},
     "output_type": "execute_result"
    }
   ],
   "source": [
    "df.head(3)"
   ]
  },
  {
   "cell_type": "code",
   "execution_count": 18,
   "id": "8cecdab9",
   "metadata": {},
   "outputs": [],
   "source": [
    "X=df.iloc[:,1:3]\n",
    "y=df.iloc[:,0]"
   ]
  },
  {
   "cell_type": "code",
   "execution_count": 19,
   "id": "a19e1b9d",
   "metadata": {},
   "outputs": [],
   "source": [
    "X_train, X_test, y_train, y_test= train_test_split(X,y, test_size =0.2, random_state=42)"
   ]
  },
  {
   "cell_type": "code",
   "execution_count": 20,
   "id": "91fcf5a6",
   "metadata": {},
   "outputs": [
    {
     "name": "stderr",
     "output_type": "stream",
     "text": [
      "C:\\ProgramData\\Anaconda3\\lib\\site-packages\\seaborn\\distributions.py:2619: FutureWarning: `distplot` is a deprecated function and will be removed in a future version. Please adapt your code to use either `displot` (a figure-level function with similar flexibility) or `histplot` (an axes-level function for histograms).\n",
      "  warnings.warn(msg, FutureWarning)\n"
     ]
    },
    {
     "data": {
      "text/plain": [
       "Text(0.5, 1.0, 'Age QQ plot')"
      ]
     },
     "execution_count": 20,
     "metadata": {},
     "output_type": "execute_result"
    },
    {
     "data": {
      "image/png": "[encoded data removed]",
      "text/plain": [
       "<Figure size 864x360 with 2 Axes>"
      ]
     },
     "metadata": {
      "needs_background": "light"
     },
     "output_type": "display_data"
    }
   ],
   "source": [
    "plt.figure(figsize=(12,5))\n",
    "plt.subplot(121)\n",
    "sns.distplot(X_train['Age'])\n",
    "plt.title(\"Age PDF\")\n",
    "\n",
    "plt.subplot(122)\n",
    "stats.probplot(X_train['Age'],dist='norm', plot=plt)\n",
    "plt.title('Age QQ plot')"
   ]
  },
  {
   "cell_type": "code",
   "execution_count": 24,
   "id": "7dcc781e",
   "metadata": {},
   "outputs": [
    {
     "name": "stderr",
     "output_type": "stream",
     "text": [
      "C:\\ProgramData\\Anaconda3\\lib\\site-packages\\seaborn\\distributions.py:2619: FutureWarning: `distplot` is a deprecated function and will be removed in a future version. Please adapt your code to use either `displot` (a figure-level function with similar flexibility) or `histplot` (an axes-level function for histograms).\n",
      "  warnings.warn(msg, FutureWarning)\n"
     ]
    },
    {
     "data": {
      "text/plain": [
       "Text(0.5, 1.0, 'Age QQ plot')"
      ]
     },
     "execution_count": 24,
     "metadata": {},
     "output_type": "execute_result"
    },
    {
     "data": {
      "image/png": "[encoded data removed]",
      "text/plain": [
       "<Figure size 864x360 with 2 Axes>"
      ]
     },
     "metadata": {
      "needs_background": "light"
     },
     "output_type": "display_data"
    }
   ],
   "source": [
    "plt.figure(figsize=(12,5))\n",
    "plt.subplot(121)\n",
    "sns.distplot(X_train['Fare'])\n",
    "plt.title(\"Age PDF\")\n",
    "\n",
    "plt.subplot(122)\n",
    "stats.probplot(X_train['Fare'],dist='norm', plot=plt)\n",
    "plt.title('Age QQ plot')"
   ]
  },
  {
   "cell_type": "code",
   "execution_count": 31,
   "id": "66739870",
   "metadata": {},
   "outputs": [],
   "source": [
    "clf = LogisticRegression()\n",
    "clf2= DecisionTreeClassifier()"
   ]
  },
  {
   "cell_type": "code",
   "execution_count": 37,
   "id": "47d3258a",
   "metadata": {},
   "outputs": [
    {
     "data": {
      "text/plain": [
       "0.6480446927374302"
      ]
     },
     "execution_count": 37,
     "metadata": {},
     "output_type": "execute_result"
    }
   ],
   "source": [
    "clf.fit(X_train,y_train)\n",
    "clf2.fit(X_train,y_train)\n",
    "\n",
    "y_pred= clf.predict(X_test)\n",
    "y_pred2= clf2.predict(X_test)\n",
    "\n",
    "accuracy_score(y_test, y_pred)"
   ]
  },
  {
   "cell_type": "code",
   "execution_count": 38,
   "id": "2bedf197",
   "metadata": {},
   "outputs": [
    {
     "data": {
      "text/plain": [
       "0.6815642458100558"
      ]
     },
     "execution_count": 38,
     "metadata": {},
     "output_type": "execute_result"
    }
   ],
   "source": [
    "accuracy_score(y_test, y_pred2)"
   ]
  },
  {
   "cell_type": "code",
   "execution_count": 62,
   "id": "5fd182af",
   "metadata": {},
   "outputs": [],
   "source": [
    "trf = FunctionTransformer(np.log1p)"
   ]
  },
  {
   "cell_type": "code",
   "execution_count": 63,
   "id": "60d84c8f",
   "metadata": {},
   "outputs": [],
   "source": [
    "X_train_transformed = trf.fit_transform(X_train)\n",
    "X_test_transformed = trf.fit_transform(X_test)"
   ]
  },
  {
   "cell_type": "code",
   "execution_count": 64,
   "id": "e2fa83ae",
   "metadata": {},
   "outputs": [],
   "source": [
    "clf = LogisticRegression()\n",
    "clf2= DecisionTreeClassifier()"
   ]
  },
  {
   "cell_type": "code",
   "execution_count": 65,
   "id": "f3e2e720",
   "metadata": {},
   "outputs": [
    {
     "name": "stdout",
     "output_type": "stream",
     "text": [
      "Accuracy of LR: 0.6815642458100558\n"
     ]
    }
   ],
   "source": [
    "clf.fit(X_train_transformed ,y_train)\n",
    "clf2.fit(X_train_transformed,y_train)\n",
    "\n",
    "y_pred= clf.predict(X_test_transformed)\n",
    "y_pred2= clf2.predict(X_test_transformed)\n",
    "\n",
    "print('Accuracy of LR: {}'.format(accuracy_score(y_test, y_pred)))"
   ]
  },
  {
   "cell_type": "code",
   "execution_count": 66,
   "id": "5840eadc",
   "metadata": {},
   "outputs": [
    {
     "data": {
      "text/plain": [
       "0.6983240223463687"
      ]
     },
     "execution_count": 66,
     "metadata": {},
     "output_type": "execute_result"
    }
   ],
   "source": [
    "accuracy_score(y_test,y_pred2)"
   ]
  },
  {
   "cell_type": "code",
   "execution_count": 51,
   "id": "33f97b33",
   "metadata": {},
   "outputs": [
    {
     "name": "stdout",
     "output_type": "stream",
     "text": [
      "LR 0.678027465667915\n",
      "DT 0.6610736579275904\n"
     ]
    }
   ],
   "source": [
    "X_transformed = trf.fit_transform(X)\n",
    "\n",
    "print(\"LR\", np.mean(cross_val_score(clf, X_transformed, y, scoring='accuracy', cv=10)))\n",
    "print(\"DT\", np.mean(cross_val_score(clf2, X_transformed, y, scoring='accuracy', cv=10)))"
   ]
  },
  {
   "cell_type": "code",
   "execution_count": 52,
   "id": "e6494d57",
   "metadata": {},
   "outputs": [
    {
     "data": {
      "text/plain": [
       "Text(0.5, 1.0, 'Fare After log')"
      ]
     },
     "execution_count": 52,
     "metadata": {},
     "output_type": "execute_result"
    },
    {
     "data": {
      "image/png": "[encoded data removed]",
      "text/plain": [
       "<Figure size 1008x288 with 2 Axes>"
      ]
     },
     "metadata": {
      "needs_background": "light"
     },
     "output_type": "display_data"
    }
   ],
   "source": [
    "plt.figure(figsize=(14,4))\n",
    "\n",
    "plt.subplot(121)\n",
    "stats.probplot(X_train['Fare'], dist='norm', plot= plt)\n",
    "plt.title(\"Fare before log\")\n",
    "\n",
    "plt.subplot(122)\n",
    "stats.probplot(X_train_transformed['Fare'], dist='norm', plot= plt)\n",
    "plt.title(\"Fare After log\")\n"
   ]
  },
  {
   "cell_type": "code",
   "execution_count": 53,
   "id": "4e2c25ae",
   "metadata": {},
   "outputs": [],
   "source": [
    "trf2 = ColumnTransformer([\n",
    "    ('log',FunctionTransformer(np.log1p),['Fare']),    \n",
    "],remainder ='passthrough')"
   ]
  },
  {
   "cell_type": "code",
   "execution_count": 67,
   "id": "7e62a67b",
   "metadata": {},
   "outputs": [],
   "source": [
    "X_train2 = trf2.fit_transform(X_train)\n",
    "X_test2 = trf2.transform(X_test)"
   ]
  },
  {
   "cell_type": "code",
   "execution_count": 70,
   "id": "40da0c2f",
   "metadata": {},
   "outputs": [
    {
     "data": {
      "text/plain": [
       "LogisticRegression()"
      ]
     },
     "execution_count": 70,
     "metadata": {},
     "output_type": "execute_result"
    }
   ],
   "source": [
    "clf.fit(X_train2, y_train)\n"
   ]
  },
  {
   "cell_type": "code",
   "execution_count": 72,
   "id": "56493aea",
   "metadata": {},
   "outputs": [],
   "source": [
    "y_pred = clf.predict(X_test_transformed2)\n"
   ]
  },
  {
   "cell_type": "code",
   "execution_count": 73,
   "id": "77f4e666",
   "metadata": {},
   "outputs": [
    {
     "data": {
      "text/plain": [
       "0.6703910614525139"
      ]
     },
     "execution_count": 73,
     "metadata": {},
     "output_type": "execute_result"
    }
   ],
   "source": [
    "accuracy_score(y_test, y_pred)"
   ]
  },
  {
   "cell_type": "code",
   "execution_count": 61,
   "id": "dd750c72",
   "metadata": {},
   "outputs": [
    {
     "data": {
      "text/plain": [
       "0.31843575418994413"
      ]
     },
     "execution_count": 61,
     "metadata": {},
     "output_type": "execute_result"
    }
   ],
   "source": [
    "accuracy_score(y_pred1, y_test)"
   ]
  },
  {
   "cell_type": "code",
   "execution_count": null,
   "id": "6be0185e",
   "metadata": {},
   "outputs": [],
   "source": []
  }
 ],
 "metadata": {
  "kernelspec": {
   "display_name": "Python 3 (ipykernel)",
   "language": "python",
   "name": "python3"
  },
  "language_info": {
   "codemirror_mode": {
    "name": "ipython",
    "version": 3
   },
   "file_extension": ".py",
   "mimetype": "text/x-python",
   "name": "python",
   "nbconvert_exporter": "python",
   "pygments_lexer": "ipython3",
   "version": "3.9.12"
  }
 },
 "nbformat": 4,
 "nbformat_minor": 5
}
