{
 "cells": [
  {
   "cell_type": "code",
   "execution_count": 1,
   "id": "fb0e43dd",
   "metadata": {},
   "outputs": [],
   "source": [
    "import pandas as pd\n",
    "import numpy as np\n",
    "import matplotlib.pyplot as plt\n",
    "import seaborn as sns"
   ]
  },
  {
   "cell_type": "code",
   "execution_count": 2,
   "id": "f9c09c7f",
   "metadata": {},
   "outputs": [],
   "source": [
    "#MICE - multivariate Imputation by Chained Equation "
   ]
  },
  {
   "cell_type": "code",
   "execution_count": null,
   "id": "eb4e29eb",
   "metadata": {},
   "outputs": [],
   "source": [
    "#DATA CAN BE MISSED BY THIS WAYS \n",
    "# MCAR = missing values at Random\n",
    "# MAR = Missing at random\n",
    "# MNAR = Missing not at random\n"
   ]
  }
 ],
 "metadata": {
  "kernelspec": {
   "display_name": "Python 3 (ipykernel)",
   "language": "python",
   "name": "python3"
  },
  "language_info": {
   "codemirror_mode": {
    "name": "ipython",
    "version": 3
   },
   "file_extension": ".py",
   "mimetype": "text/x-python",
   "name": "python",
   "nbconvert_exporter": "python",
   "pygments_lexer": "ipython3",
   "version": "3.9.12"
  }
 },
 "nbformat": 4,
 "nbformat_minor": 5
}
