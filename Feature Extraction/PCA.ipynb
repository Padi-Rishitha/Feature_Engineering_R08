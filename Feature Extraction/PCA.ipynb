{
 "cells": [
  {
   "cell_type": "code",
   "execution_count": 1,
   "id": "82bdc9d2",
   "metadata": {},
   "outputs": [],
   "source": [
    "import pandas as pd\n",
    "import numpy as np\n",
    "import seaborn as sns "
   ]
  },
  {
   "cell_type": "code",
   "execution_count": 2,
   "id": "8ae9b8dd",
   "metadata": {},
   "outputs": [],
   "source": [
    "#unsupervised , complex , feature Extraction Techinque, \n",
    "# main aim to reduce Curse of Dimenstionality "
   ]
  },
  {
   "cell_type": "code",
   "execution_count": 3,
   "id": "3ceee39a",
   "metadata": {},
   "outputs": [],
   "source": [
    "# benifits\n",
    "# which can transform high dimensional data to low dimesional data while keeping essence of the data\n",
    "# Fater Exeuxction of Algorithms\n",
    "# Visuvalization (10d- 2d ya 3d ) then we can plot graph easily  "
   ]
  },
  {
   "cell_type": "code",
   "execution_count": 4,
   "id": "e945bd82",
   "metadata": {},
   "outputs": [],
   "source": [
    "#projection which is greater that we will take into consideration "
   ]
  },
  {
   "cell_type": "code",
   "execution_count": 5,
   "id": "97fccf15",
   "metadata": {},
   "outputs": [],
   "source": [
    "# no. of PC <= n where n is number of features "
   ]
  },
  {
   "cell_type": "code",
   "execution_count": null,
   "id": "59e92088",
   "metadata": {},
   "outputs": [],
   "source": []
  }
 ],
 "metadata": {
  "kernelspec": {
   "display_name": "Python 3 (ipykernel)",
   "language": "python",
   "name": "python3"
  },
  "language_info": {
   "codemirror_mode": {
    "name": "ipython",
    "version": 3
   },
   "file_extension": ".py",
   "mimetype": "text/x-python",
   "name": "python",
   "nbconvert_exporter": "python",
   "pygments_lexer": "ipython3",
   "version": "3.9.12"
  }
 },
 "nbformat": 4,
 "nbformat_minor": 5
}
